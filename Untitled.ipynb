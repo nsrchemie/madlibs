{
 "cells": [
  {
   "cell_type": "code",
   "execution_count": 1,
   "metadata": {
    "collapsed": false
   },
   "outputs": [
    {
     "name": "stdout",
     "output_type": "stream",
     "text": [
      "What is your name?Nick\n",
      "What is your quest?To learn programming\n",
      "What is your favorite color?Green\n",
      "Hello Nick.Your quest of To learn programming is a noble one!.I am also pleased that you enjoy the color Green\n"
     ]
    }
   ],
   "source": [
    "name = input(\"What is your name?\")\n",
    "quest = input('What is your quest?')\n",
    "color = input('What is your favorite color?')\n",
    "\n",
    "print ('Hello ' + name + '.'  'Your quest ' + quest + ' is a noble one!.' + 'I am also pleased that you enjoy the color ' + color)\n",
    "\n",
    "'''madlib = name\n",
    "madlib += 'is aspiring to '\n",
    "madlib += quest\n",
    "'''\n"
   ]
  },
  {
   "cell_type": "code",
   "execution_count": null,
   "metadata": {
    "collapsed": false
   },
   "outputs": [
    {
     "name": "stdout",
     "output_type": "stream",
     "text": [
      "Is this a man or woman?Woman\n",
      "What is their name?Artemis\n",
      "List a verbchill\n",
      "List a continuous verbcurling\n",
      "Give a locationBavaria\n",
      "What happened?entropy was reversed\n"
     ]
    }
   ],
   "source": [
    "gender = input('Is this a man or woman?')\n",
    "name = input('What is their name?')\n",
    "act1 = input('List a verb')\n",
    "act2 = input('List a continuous verb')\n",
    "loc = input('Give a location')\n",
    "sup = input('What happened?')\n",
    "rea = input('List a verb')\n",
    "ani = input('List an animal')\n",
    "\n",
    "print ('Long ago there was a ' + gender + ' who went by the name of ' + name + '.' \n",
    "       + ' One day they decided to' + \n",
    "        act1 + ' while they were ' + act2 + ' out in ' + loc + '.' + \n",
    "       ' All of a sudden ' + sup + ' and ' + name + 'decided to '\n",
    "       + rea + ' and then they were turned into a ' + ani + '.')"
   ]
  },
  {
   "cell_type": "code",
   "execution_count": null,
   "metadata": {
    "collapsed": true
   },
   "outputs": [],
   "source": []
  }
 ],
 "metadata": {
  "kernelspec": {
   "display_name": "Python 3",
   "language": "python",
   "name": "python3"
  },
  "language_info": {
   "codemirror_mode": {
    "name": "ipython",
    "version": 3
   },
   "file_extension": ".py",
   "mimetype": "text/x-python",
   "name": "python",
   "nbconvert_exporter": "python",
   "pygments_lexer": "ipython3",
   "version": "3.4.3"
  }
 },
 "nbformat": 4,
 "nbformat_minor": 0
}
